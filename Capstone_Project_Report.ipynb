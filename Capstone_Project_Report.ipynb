{
 "cells": [
  {
   "cell_type": "markdown",
   "metadata": {},
   "source": [
    "## Identification of high-potential neighboords for a new food delivery service in Munich"
   ]
  },
  {
   "cell_type": "markdown",
   "metadata": {},
   "source": [
    "### Introduction\n",
    "\n",
    "Following the Covid-19 crisis and the toll the quarantine took on the local economy, the city of Munich is evaluating its involvement in a non-profit delivery initiative that would allow the local restaurants that are currently not open to the public to operate and generate revenues. The home delivery service would be managed and physically run by a non-profit, state-funded company, relieving thus the restaurants from all management and delivery-related costs.\n",
    "\n",
    "Considered the entity of the investment, the city council wants to first roll-out the service to those neighborhoods where an economy of scale could be most efficiently applied, namely the areas with an high demand and an high supply, where ideally a large volume of orders can be handled through an efficient employment of limited resources. \n",
    "\n",
    "The selected neighborhoods would have to satisfy some requirements: on the supply side, a leading criterion will be the density of restaurants in the neighborhood. On the demand side, the neighborhoods which are expected to have an higher amount of users will be evaluated based on demographic data such as the population density, age group and employment status of the population under the assumption that the average user will be employed and in the age group 25 to 55. \n",
    "\n",
    "The demand and supply data will then be crossed to identify high-potential neighborhoods for starting a pilot of the service."
   ]
  },
  {
   "cell_type": "markdown",
   "metadata": {},
   "source": [
    "## Data\n",
    "\n",
    "The data used for this analysis will be retrieved from the Foursquare API for what concerns the venues' information.\n",
    "The coordinates for each neighborhoods have been retrieved from the [Open Software Database](https://public.opendatasoft.com/explore/dataset/postleitzahlen-deutschland/table/?refine.note=M%C3%BCnchen&dataChart=eyJxdWVyaWVzIjpbeyJjb25maWciOnsiZGF0YXNldCI6InBvc3RsZWl0emFobGVuLWRldXRzY2hsYW5kIiwib3B0aW9ucyI6eyJyZWZpbmUubm90ZSI6Ik1cdTAwRkNuY2hlbiJ9fSwiY2hhcnRzIjpbeyJhbGlnbk1vbnRoIjp0cnVlLCJ0eXBlIjoiY29sdW1uIiwiZnVuYyI6IkNPVU5UIiwic2NpZW50aWZpY0Rpc3BsYXkiOnRydWUsImNvbG9yIjoiI0ZGNTE1QSJ9XSwieEF4aXMiOiJub3RlIiwibWF4cG9pbnRzIjo1MCwic29ydCI6IiJ9XSwidGltZXNjYWxlIjoiIiwiZGlzcGxheUxlZ2VuZCI6dHJ1ZSwiYWxpZ25Nb250aCI6dHJ1ZX0%3D&location=11,48.155,11.54183&basemap=jawg.streets).\n",
    "\n",
    "All the demographic data, as well the mapping between postal codes and neighborhood have been found on the Open Data Portal of the city of Munich: \n",
    "https://www.opengov-muenchen.de/dataset\n",
    "\n",
    "The coordinates for each neighborhood will be used to retrieve the density of restaurants and shops that could profit from the service.\n",
    "The demographic data will be used to identify the neighborhoods fulfilling the definition of high-demand area, thus having the highest population density and an above average ratio of employement.\n",
    "\n",
    "The geodata and the demografic data will then be compared to identify the areas with the highest demand and supply. The data will be joined based on the column Neighborhood, which will be processed to be equivalent in both data sets.\n"
   ]
  },
  {
   "cell_type": "markdown",
   "metadata": {},
   "source": [
    "## Methodology \n",
    "\n",
    "For assessing the distribution of the potential users of the service (__demand__) across the different neighborhoods, a dataset containing all relevant data and indicators has been created: from the Open Data website of the city of Munich, following datasets have been imported to pandas dataframes:\n",
    "\n",
    "* __Population density__: containing the information on the distribution of the population across the neighborhoods, as well as the surface of each neighborhood\n",
    "\n",
    "* __Employment data__: containing the information on the potentially employable population per neighborhood, aged 15 to 65, with main residence in Munich\n",
    "\n",
    "* __Unenmploment data__: containing the information on the absolute numbers of unemployed in the neighborhoods\n",
    "\n",
    "The three datasets have been imported, filtered by the most recent data and aggregated, since distinctions of gender and citizenship are irrelevant for this analysis.\n",
    "\n",
    "The datasets have been aggregated in such a way that the neighborhood appeared only once and then joined by Neighborhood.\n",
    "A new indicator defined as Population Density indicating the amount of population per sq_km in each neighborhood has been calculated and added to the dataset:\n",
    "\n",
    "_Population Density = Population / Surface_ \n",
    "\n",
    "Further data cleansing steps have been performed to ensure usability and uniformity of data across different sources:\n",
    "\n",
    "* __Translation__: since the original headings were in German, the columns have been renamed\n",
    "\n",
    "* __Naming Convention__: the identification number preceeding the actual name of the neighborhood was removed with a str.slice function\n",
    "\n",
    "* __Formats__: the separator ' - ' has been replaced with the more common '-'\n",
    "\n",
    "Secondly the geodata have been prepared: the latitudes and longitudes for each postal code have been downloaded from the Open Data Soft database. The column containing both latitude and longitude was split into two separate columns for facilitating the following processing.\n",
    "\n",
    "From the website of the city of Munich, a list of all neighborhoods and their postal code was downloaded. The lines were exploded in order to have every postal code in one line and to enable the join to the geodata table. The table containing the coordinates for each postal code and the one containing the mapping between postal codes and neighborhood have been joined and aggregated.\n",
    "\n",
    "Further data cleansing steps have been performed to ensure uniformity of data across different sources:\n",
    "\n",
    "* __Translation__: since the original headings were in German, the columns have been renamed\n",
    "\n",
    "* __Naming Convention__: the following neighborhoods have been renamed according to the normal conventions:\n",
    "    * 'Obergiesing' --> 'Obergiesing-Fasangarten'\n",
    "    *'Thalkirchen-Obersendling-Fürstenried-Forstenried-Solln' --> 'Thalkirchen-Obersendling-Forstenried-Fürstenried-Solln'\n",
    "    \n",
    "    \n",
    "* __Formats__: latitude and longitude have been formatted as float\n",
    "\n",
    "A connection to the Foursquare API has been established. A function has been defined to iterate the search for all venues throughout the neighborhood list. The Foursquare data relative to restaurants have been then saved to a dataframe an counted. This data set was join to the demographic data and new indicators have been defined:\n",
    "\n",
    "* __Restaurant_Density__: indicating the number of restaurants per sq_km\n",
    "\n",
    "* __Pop_Rest_Ratio__: indicating the number of restaurants per number of inhabitants\n",
    "\n",
    "The final dataset used for drawing conclusions was a dataframe containing for each neighborhoods following indicators: Net Employement rate, total population, population density, restaurant density, ratio population to number of restaurant. All other columnes used for processing have been dropped to simplify the analysis.\n",
    "\n",
    "The indicators are used as follows:\n",
    "\n",
    "* __Net Employement rate__: for the assessment of high-demand neighborhoods; it should be above the city average\n",
    "\n",
    "* __Population Density__: higher density of employed population is used to assess high demand\n",
    "\n",
    "* __restaurant density__: higher density of restaurants is used to assess high supply\n",
    "\n",
    "* __Population_Restaurant_Ratio__: used a control parameter to ensure that the demand doesn't exceed too much the supply\n"
   ]
  },
  {
   "cell_type": "markdown",
   "metadata": {},
   "source": [
    " \n",
    " "
   ]
  },
  {
   "cell_type": "markdown",
   "metadata": {},
   "source": [
    "## Results\n",
    "\n",
    "For better interpretation of the results, the results have been plotted and the top neighborhoods have been selected.\n",
    "\n",
    "Starting with the demand indicators, the most population-dense neighboorhoods are:\n",
    "1. Schwabing-West\n",
    "2. Au-Haidhausen\n",
    "3. Schwanthalerhöhe\n",
    "4. Maxvorstadt\n",
    "5. Ludwigsvorstadt-Isarvorstadt\n",
    "\n",
    "All except Schwanthalerhöhe also reach the minimum threshold defined for the net emploment indicator and can therefore be taken into consideration for the pilot.\n",
    "\n",
    "For the supply side, the neighborhoods with the highest concentration of restaurants are:\n",
    "1. Schwanthalerhöhe\n",
    "2. Schwabing-West\n",
    "3. Sendling\n",
    "4. Ludwigsvorstadt-Isarvorstadt\n",
    "5. Au-Haidhausen\n",
    "\n",
    "All of these neighborhoods are not having any over-demand issue according to ratio population to number of restaurant indicator and they can therefore taken into consideration for the pilot."
   ]
  },
  {
   "cell_type": "markdown",
   "metadata": {},
   "source": [
    " "
   ]
  },
  {
   "cell_type": "markdown",
   "metadata": {},
   "source": [
    "## Discussion\n",
    "\n",
    "By crossing the demand and supply data, it looks like the neighborhood Schwabing-West has the highest potential both on demand and supply side since it is the most population dense and the second highest for concentration of restaurant. Furthermore its net employment rate of 97,5% is the second highest in the city and the workload of its restaurant is below average, confirming the suitability of the neighborhood for being the pilot in the food delivery initiative.\n",
    "\n",
    "The neighboorhoods of Au-Haidhausen and Ludwigsvorstadt-Isarvorstadt are also high-potential neighborhoods and can be considered for an enhancement of the pilot phase of the project."
   ]
  },
  {
   "cell_type": "markdown",
   "metadata": {},
   "source": [
    " \n",
    " "
   ]
  },
  {
   "cell_type": "markdown",
   "metadata": {},
   "source": [
    "## Conclusion\n",
    "\n",
    "The analysis of both demographic and geo-spatial data lead to a clear representation of the neighborhoods with the right combination of supply and demand to ensure the success of the pilot phase of the food delivery initiative. The city council can leverage on the collected data to define a city-wide roll-out plan based on the statistics provided for each area."
   ]
  },
  {
   "cell_type": "code",
   "execution_count": null,
   "metadata": {},
   "outputs": [],
   "source": []
  }
 ],
 "metadata": {
  "kernelspec": {
   "display_name": "Python",
   "language": "python",
   "name": "conda-env-python-py"
  },
  "language_info": {
   "codemirror_mode": {
    "name": "ipython",
    "version": 3
   },
   "file_extension": ".py",
   "mimetype": "text/x-python",
   "name": "python",
   "nbconvert_exporter": "python",
   "pygments_lexer": "ipython3",
   "version": "3.6.10"
  }
 },
 "nbformat": 4,
 "nbformat_minor": 4
}
